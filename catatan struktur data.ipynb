{
 "cells": [
  {
   "cell_type": "code",
   "execution_count": null,
   "metadata": {},
   "outputs": [],
   "source": [
    "linear search adalah pencarian data secara linear yang artinya pencarian dilakukan secara teratur dari awal sampai akhir data.\n",
    "ini merupakan metode pencarian data dengan cara membandingkan nilai yang dicari dengan nilai dari setiap elemen list,\n",
    "mulai dari elemen pertama sampai nilai yang dicari ditemukan atau sampai elemen terakhir."
   ]
  },
  {
   "cell_type": "code",
   "execution_count": 1,
   "metadata": {},
   "outputs": [
    {
     "name": "stdout",
     "output_type": "stream",
     "text": [
      "did not find the search number.\n",
      "did not find the search number.\n",
      "did not find the search number.\n",
      "found the search number.\n",
      "1\n"
     ]
    }
   ],
   "source": [
    "#linear search dari belakang\n",
    "search = 2\n",
    "myList = [1,2,3,4,5]\n",
    "position = len(myList)-1\n",
    "last = 0\n",
    "found = False\n",
    "while position >= last and not found :\n",
    "    if myList[position] == search :\n",
    "        found = True\n",
    "    else :\n",
    "        position = position-1\n",
    "    if found :\n",
    "        print(\"found the search number.\")\n",
    "        print(position)\n",
    "    else :\n",
    "        print(\"did not find the search number.\")"
   ]
  },
  {
   "cell_type": "code",
   "execution_count": 2,
   "metadata": {},
   "outputs": [
    {
     "name": "stdout",
     "output_type": "stream",
     "text": [
      "did not find the search number.\n",
      "found the search number.\n",
      "1\n"
     ]
    }
   ],
   "source": [
    "#linear search dari depan\n",
    "search = 2\n",
    "myList = [1,2,3,4,5]\n",
    "position = 0\n",
    "last = len(myList)-1\n",
    "found = False\n",
    "while position <= last and not found :\n",
    "    if myList[position] == search :\n",
    "        found = True\n",
    "    else :\n",
    "        position = position+1\n",
    "    if found :\n",
    "        print(\"found the search number.\")\n",
    "        print(position)\n",
    "    else :\n",
    "        print(\"did not find the search number.\")"
   ]
  },
  {
   "cell_type": "code",
   "execution_count": 3,
   "metadata": {},
   "outputs": [
    {
     "name": "stdout",
     "output_type": "stream",
     "text": [
      "did not find the search number\n",
      "found the search number\n",
      "1\n",
      "did not find the search number\n",
      "did not find the search number\n"
     ]
    }
   ],
   "source": [
    "#jika menggunakan for\n",
    "search = 2\n",
    "myList = [1,2,3,4,5]\n",
    "position = 0\n",
    "last = len(myList)-1\n",
    "found = False\n",
    "for position in range(len(myList)-1) :\n",
    "    if myList[position] == search :\n",
    "        found = True\n",
    "        print(\"found the search number\")\n",
    "        print(position)\n",
    "    else :\n",
    "        print(\"did not find the search number\")\n",
    "        "
   ]
  },
  {
   "cell_type": "code",
   "execution_count": null,
   "metadata": {},
   "outputs": [],
   "source": [
    "binary search adalah metode pencarian data dengan membagi 2 atau pencarian dimulai dari indeks list bagian tengah,\n",
    "lalu membandingkannya"
   ]
  },
  {
   "cell_type": "code",
   "execution_count": 18,
   "metadata": {},
   "outputs": [
    {
     "name": "stdout",
     "output_type": "stream",
     "text": [
      "did not find the search number.\n",
      "found the search number.\n",
      "4\n"
     ]
    }
   ],
   "source": [
    "#binary search \n",
    "search = 5\n",
    "myList = [1,2,3,4,5,6]\n",
    "myList.sort()\n",
    "position = 0\n",
    "last = len(myList)-1\n",
    "found = False\n",
    "\n",
    "while position <= last and not found :\n",
    "    middle = (position+last)//2\n",
    "    if myList[middle] == search :\n",
    "        found = True\n",
    "    else :\n",
    "        if search < myList[middle] :\n",
    "            last = middle-1\n",
    "        else :\n",
    "            position = middle+1\n",
    "    if found :\n",
    "        print(\"found the search number.\")\n",
    "        print(middle)\n",
    "    else :\n",
    "        print(\"did not find the search number.\")"
   ]
  },
  {
   "cell_type": "code",
   "execution_count": 14,
   "metadata": {},
   "outputs": [
    {
     "name": "stdout",
     "output_type": "stream",
     "text": [
      "('ditemukan angka', 99, 'pada indeks', 11)\n",
      "('banyak iterasi :', 4)\n"
     ]
    }
   ],
   "source": [
    "#nyari bilangan, dan hitung berapa iterasinya\n",
    "search = 99\n",
    "myList = [1,4,7,19,21,33,42,55,63,7,87,99,121,124]\n",
    "first = 0\n",
    "iterasi = 0\n",
    "last = len(myList)-1\n",
    "found = False\n",
    "\n",
    "while first <= last and not found :\n",
    "    mid = (first+last)//2\n",
    "    iterasi += 1\n",
    "    if myList[mid] < search :\n",
    "        first = mid+1\n",
    "    elif myList[mid] > search :\n",
    "        last = mid-1\n",
    "    else :\n",
    "        found = True\n",
    "        \n",
    "if found :\n",
    "    print(\"ditemukan angka\", search, \"pada indeks\", mid)\n",
    "    print(\"banyak iterasi :\", iterasi)\n",
    "else :\n",
    "    print(\"indeks angka\", search, \"tidak ditemukan dalam list\")\n",
    "    print(\"iterasi :\", iterasi)"
   ]
  },
  {
   "cell_type": "code",
   "execution_count": null,
   "metadata": {},
   "outputs": [],
   "source": [
    "hashing adalah teknik atau metode memetakan data ke sebuah tempat dimana data sebenarnya dirubah dalam bentuk lain.\n",
    "cara metode hashing dengan membuat sebuah list yang akan diisi oleh data masukan."
   ]
  },
  {
   "cell_type": "code",
   "execution_count": 22,
   "metadata": {
    "scrolled": true
   },
   "outputs": [
    {
     "name": "stdout",
     "output_type": "stream",
     "text": [
      "Masukan panjang tabel Hash = 4\n",
      "[None, None, None, None]\n",
      "Berapa angka yang ingin dimasukkan ke Tabel Hash = 4\n",
      "Masukkan angka = 8\n",
      "Masukkan angka = 10\n",
      "Masukkan angka = 4\n",
      "Masukkan angka = 6\n",
      "[8, 4, 10, 6]\n"
     ]
    }
   ],
   "source": [
    "#linear probbing\n",
    "table = int(input(\"Masukan panjang tabel Hash = \"))\n",
    "table = [None]*table\n",
    "print(table)\n",
    "def hash(x,table):\n",
    "    return x % len(table)\n",
    "\n",
    "def insert(table,key,value):\n",
    "    index = hash(key,table)\n",
    "    if table[index] == None:\n",
    "        table[index] = value\n",
    "    else:\n",
    "        collusion = index\n",
    "        found = False\n",
    "        ind = collusion + 1\n",
    "        if ind > len(table) - 1:\n",
    "                ind = 0\n",
    "        while (ind <= len(table)-1) and not found:\n",
    "            if table[ind] == None:\n",
    "                found = True\n",
    "                table[ind] = value\n",
    "            ind = ind+1\n",
    "\n",
    "masuk = \"y\"\n",
    "while masuk == \"y\":\n",
    "    nginput = int(input(\"Berapa angka yang ingin dimasukkan ke Tabel Hash = \"))\n",
    "    if nginput > len(table):\n",
    "        print(\"Panjang data masukkan lebih dari panjang Tabel Hash\")\n",
    "        print(\"Tolong masukkan ulang\")\n",
    "    else:\n",
    "        masuk = \"t\"\n",
    "b = 1\n",
    "while b<=nginput:\n",
    "    masukan = int(input(\"Masukkan angka = \"))\n",
    "    insert(table,masukan,masukan)\n",
    "    b+=1\n",
    "print(table)"
   ]
  },
  {
   "cell_type": "code",
   "execution_count": 23,
   "metadata": {},
   "outputs": [
    {
     "name": "stdout",
     "output_type": "stream",
     "text": [
      "Masukan panjang tabel Hash = 4\n",
      "[None, None, None, None]\n",
      "Berapa angka yang ingin dimasukkan ke Tabel Hash = 4\n",
      "Masukan angka = 12\n",
      "Masukan angka = 6\n",
      "Masukan angka = 20\n",
      "Masukan angka = 10\n",
      "[12, 20, 6, 10]\n"
     ]
    }
   ],
   "source": [
    "#quadratic probbing\n",
    "table = int(input(\"Masukan panjang tabel Hash = \"))\n",
    "table = [None] * table\n",
    "print(table)\n",
    "def hash(x,table):\n",
    "    return x % len(table)\n",
    "\n",
    "def insert(table,key,value):\n",
    "    index = hash(key,table)\n",
    "    if table[index] == None:\n",
    "        table[index] = value\n",
    "    else:\n",
    "        collusion = index\n",
    "        found = False\n",
    "        i = 1\n",
    "        while i > 0 and not found:\n",
    "            ind = collusion + i**2\n",
    "            ind = ind % len(table)\n",
    "            if table[ind] == None:\n",
    "                found = True\n",
    "                table[ind] = value\n",
    "            i+=1\n",
    "\n",
    "masuk = \"y\"\n",
    "while masuk == \"y\":\n",
    "    nginput = int(input(\"Berapa angka yang ingin dimasukkan ke Tabel Hash = \"))\n",
    "    if nginput > len(table):\n",
    "        print(\"Panjang data masukan lebih dari panjang Tabel Hash\")\n",
    "        print(\"Tolong masukan ulang\")\n",
    "    else:\n",
    "        masuk = 'n'\n",
    "b = 1\n",
    "while b<=nginput:\n",
    "    masukan = int(input(\"Masukan angka = \"))\n",
    "    insert(table,masukan,masukan)\n",
    "    b+=1\n",
    "print(table)"
   ]
  },
  {
   "cell_type": "code",
   "execution_count": 24,
   "metadata": {},
   "outputs": [
    {
     "name": "stdout",
     "output_type": "stream",
     "text": [
      "Masukan panjang tabel Hash = 4\n",
      "Berapa angka yang ingin dimasukkan ke Tabel Hash = 4\n",
      "Masukan angka = 24\n",
      "Masukan angka = 9\n",
      "Masukan angka = 16\n",
      "Masukan angka = 6\n",
      "[[24, 16], [9], [6], []]\n"
     ]
    }
   ],
   "source": [
    "#chaining(close address)\n",
    "table = int(input(\"Masukan panjang tabel Hash = \"))\n",
    "table = [ [] for _ in range(table) ]\n",
    "\n",
    "def hash(x,table):\n",
    "    return x % len(table)\n",
    "\n",
    "def insert(table,key,value):\n",
    "    table[hash(key,table)].append(value)\n",
    "\n",
    "\n",
    "nginput = int(input(\"Berapa angka yang ingin dimasukkan ke Tabel Hash = \"))\n",
    "b = 1\n",
    "while b<=nginput:\n",
    "    masukan = int(input(\"Masukan angka = \"))\n",
    "    insert(table,masukan,masukan)\n",
    "    b+=1\n",
    "print(table)"
   ]
  },
  {
   "cell_type": "code",
   "execution_count": null,
   "metadata": {},
   "outputs": [],
   "source": [
    "bubble sort adalah proses pengurutan yang dilakukan dengan membandingkan masing-masing nilai dalam suatu list secara\n",
    "berpasangan, kemudian tukar nilai jika diperlukan, dan mengulanginya sampai akhir list secara berurutan, sehingga tidak ada\n",
    "lagi niai yang dapat ditukar"
   ]
  },
  {
   "cell_type": "code",
   "execution_count": 25,
   "metadata": {},
   "outputs": [
    {
     "name": "stdout",
     "output_type": "stream",
     "text": [
      "[3, 6, 5, 1, 4, 9, 10, 8, 2, 7]\n",
      "[1, 2, 3, 4, 5, 6, 7, 8, 9, 10]\n"
     ]
    }
   ],
   "source": [
    "daftar = [3,6,5,1,4,9,10,8,2,7]\n",
    "print(daftar)\n",
    "for k in range(1,len(daftar)):\n",
    "    for i in range(0,len(daftar)-1):\n",
    "        if daftar[i]>daftar[i+1]:\n",
    "            daftar[i],daftar[i+1] = daftar[i+1],daftar[i]\n",
    "print(daftar)"
   ]
  },
  {
   "cell_type": "code",
   "execution_count": null,
   "metadata": {},
   "outputs": [],
   "source": [
    "selection sort adalah memilih elemen dengan nilai paling rendah dan menukarkan elemen tersebut dengan elemen ke-i.\n",
    "nilai dari i dimulai dari 1 ke n, dimana n adalah jumlah total elemen dikurangi 1."
   ]
  },
  {
   "cell_type": "code",
   "execution_count": 26,
   "metadata": {},
   "outputs": [
    {
     "name": "stdout",
     "output_type": "stream",
     "text": [
      "[4, 6, 1, 2, 5, 3]\n",
      "[1, 2, 3, 4, 5, 6]\n"
     ]
    }
   ],
   "source": [
    "daftar = [4,6,1,2,5,3]\n",
    "print(daftar)\n",
    "for i in range(0,len(daftar)-1):\n",
    "    min = i\n",
    "    for j in range(i+1,len(daftar)):\n",
    "        if daftar[j] < daftar[min]:\n",
    "            min = j\n",
    "\n",
    "    daftar[i],daftar[min] = daftar[min],daftar[i]\n",
    "print(daftar)"
   ]
  },
  {
   "cell_type": "code",
   "execution_count": null,
   "metadata": {},
   "outputs": [],
   "source": [
    "insertion sort pada dasarnya membagi data yang akan diurutkan menjadi 2 bagian, satu bagian yang belum diurutkan dan yang\n",
    "satunya lagi sudah diurutkan"
   ]
  },
  {
   "cell_type": "code",
   "execution_count": 27,
   "metadata": {},
   "outputs": [
    {
     "name": "stdout",
     "output_type": "stream",
     "text": [
      "Masukkan panjang list=5\n",
      "Masukkan angka=9\n",
      "Masukkan angka=7\n",
      "Masukkan angka=6\n",
      "Masukkan angka=10\n",
      "Masukkan angka=8\n",
      "[6, 7, 8, 9, 10]\n"
     ]
    }
   ],
   "source": [
    "MyList = int(input(\"Masukkan panjang list=\"))\n",
    "angka = [0]*MyList\n",
    "for i in range(MyList):\n",
    "    angka[i] = int(input(\"Masukkan angka=\"))\n",
    "\n",
    "def insertionsort(val):\n",
    "    for index in range(1,len(val)):\n",
    "\n",
    "        value = val[index]\n",
    "        posisi = index\n",
    "\n",
    "        while posisi>0 and val[posisi-1]>value:\n",
    "            val[posisi]=val[posisi-1]\n",
    "            posisi = posisi-1\n",
    "\n",
    "        val[posisi] = value\n",
    "\n",
    "insertionsort(angka)\n",
    "print(angka)"
   ]
  },
  {
   "cell_type": "code",
   "execution_count": null,
   "metadata": {},
   "outputs": [],
   "source": [
    "quick sort adalah algoritma sorting yang berdasarkan pembandingan dengan metode divide and conquer.\n",
    "metode ini merupakan suatu algoritma pengurutan data yang menggunakan teknik pemecahan data menjadi partisi-partisi"
   ]
  },
  {
   "cell_type": "code",
   "execution_count": 30,
   "metadata": {},
   "outputs": [
    {
     "name": "stdout",
     "output_type": "stream",
     "text": [
      "[1, 2, 3, 4, 5, 6, 7, 8]\n"
     ]
    }
   ],
   "source": [
    "def QuickSortAwal(alist):\n",
    "    QuickSort(alist,0,len(alist)-1)\n",
    "\n",
    "def QuickSort(alist,start,end):\n",
    "    if start < end:\n",
    "        pIndex = Partition(alist,start,end)\n",
    "        QuickSort (alist,start,pIndex-1)\n",
    "        QuickSort (alist,pIndex+1,end)\n",
    "\n",
    "def Partition(alist,start,end):\n",
    "    pivot = alist[end]\n",
    "    pIndex = start\n",
    "    for i in range(start,end):\n",
    "        if (alist[i] <= pivot):\n",
    "            alist[i],alist[pIndex] = alist[pIndex],alist[i]\n",
    "            pIndex = pIndex+1\n",
    "    alist[pIndex],alist[end] = alist[end],alist[pIndex]\n",
    "    return pIndex\n",
    "\n",
    "alist = [5,3,8,2,7,4,6,1]\n",
    "QuickSortAwal(alist)\n",
    "print(alist)"
   ]
  },
  {
   "cell_type": "code",
   "execution_count": null,
   "metadata": {},
   "outputs": [],
   "source": [
    "merged sort adalah algoritma sorting dengan menggunakan cara divide and conquer yaitu dengan memecah kemudian\n",
    "menyelesaikan setiap bagian kemudian menggabungkannya kembali."
   ]
  },
  {
   "cell_type": "code",
   "execution_count": 35,
   "metadata": {},
   "outputs": [
    {
     "name": "stdout",
     "output_type": "stream",
     "text": [
      "[8, 9, 10, 11, 12, 13, 14, 15]\n"
     ]
    }
   ],
   "source": [
    "def MergedSort(alist):\n",
    "    n = len(alist)\n",
    "    if (n<2):\n",
    "        return\n",
    "    mid = len(alist)//2\n",
    "    left = alist[:mid]\n",
    "    right = alist[mid:]\n",
    "    MergedSort(left)\n",
    "    MergedSort(right)\n",
    "    i = 0\n",
    "    j = 0\n",
    "    k = 0\n",
    "    while i < len(left) and j < len(right):\n",
    "        if left[i] < right[j]:\n",
    "            alist[k] = left[i]\n",
    "            i = i+1\n",
    "        else :\n",
    "            alist[k] = right[j]\n",
    "            j = j+1\n",
    "        k = k+1\n",
    "    while i < len(left):\n",
    "        alist[k] = left[i]\n",
    "        i = i+1\n",
    "        k = k+1\n",
    "    while j < len(right):\n",
    "        alist[k] = right[j]\n",
    "        j = j+1\n",
    "        k = k+1\n",
    "alist = [9,12,10,15,13,8,11,14]\n",
    "MergedSort(alist)\n",
    "print(alist) "
   ]
  },
  {
   "cell_type": "code",
   "execution_count": null,
   "metadata": {},
   "outputs": [],
   "source": [
    "shell sort meruapakan metode mengurutkan data dengan cara membandingkan suatu data dengan data lain yang memilik jarak tertentu\n",
    "kemudian dilakukan penukaran bila diperlukan"
   ]
  },
  {
   "cell_type": "code",
   "execution_count": 34,
   "metadata": {},
   "outputs": [
    {
     "name": "stdout",
     "output_type": "stream",
     "text": [
      "[6, 4, 8, 3, 9, 5, 7]\n",
      "3\n",
      "[3, 4, 8, 6, 9, 5, 7]\n",
      "[3, 4, 8, 6, 9, 5, 7]\n",
      "3\n",
      "[3, 4, 8, 6, 9, 5, 7]\n",
      "3\n",
      "[3, 4, 5, 6, 9, 8, 7]\n",
      "1\n",
      "[3, 4, 5, 6, 9, 8, 7]\n",
      "[3, 4, 5, 6, 9, 8, 7]\n",
      "[3, 4, 5, 6, 9, 8, 7]\n",
      "[3, 4, 5, 6, 9, 8, 7]\n",
      "[3, 4, 5, 6, 8, 9, 7]\n",
      "[3, 4, 5, 6, 7, 8, 9]\n"
     ]
    }
   ],
   "source": [
    "def ShellSort(alist):\n",
    "    sublistcount = len(alist)//2\n",
    "    while sublistcount > 0:\n",
    "        for startposition in range(sublistcount):\n",
    "            print(sublistcount)\n",
    "            gapInsertionSort(alist,startposition,sublistcount)\n",
    "        sublistcount = sublistcount//2\n",
    "def gapInsertionSort(alist,start,gap):\n",
    "    for i in range(start+gap,len(alist),gap):\n",
    "        currentvalue = alist[i]\n",
    "        position = i\n",
    "        while position >= gap and alist[position-gap] > currentvalue:\n",
    "            alist[position] = alist[position-gap]\n",
    "            position = position-gap\n",
    "        alist[position] = currentvalue\n",
    "        print(alist)\n",
    "alist = [6,4,8,3,9,5,7]\n",
    "print(alist)\n",
    "ShellSort(alist) "
   ]
  }
 ],
 "metadata": {
  "kernelspec": {
   "display_name": "Python 2",
   "language": "python",
   "name": "python2"
  },
  "language_info": {
   "codemirror_mode": {
    "name": "ipython",
    "version": 2
   },
   "file_extension": ".py",
   "mimetype": "text/x-python",
   "name": "python",
   "nbconvert_exporter": "python",
   "pygments_lexer": "ipython2",
   "version": "2.7.15"
  }
 },
 "nbformat": 4,
 "nbformat_minor": 2
}
